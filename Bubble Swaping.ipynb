{
 "cells": [
  {
   "cell_type": "code",
   "execution_count": 1,
   "id": "071e733b",
   "metadata": {},
   "outputs": [],
   "source": [
    "# CODE FOR BUBBLE SWAPPING\n",
    "\n",
    "# Bubble sort is a sorting algorithm that compares two adjacent elements and swaps them until they\n",
    "# are in the intended order.\n",
    "\n",
    "# Just like the movement of air bubbles in the water that rise up to the surface, each element of\n",
    "# the array move to the end in each iteration. Therefore, it is called a bubble sort."
   ]
  },
  {
   "cell_type": "code",
   "execution_count": 2,
   "id": "8cd2bcdf",
   "metadata": {},
   "outputs": [],
   "source": [
    "def bubswap(a):\n",
    "    b = len(a)-1;\n",
    "    for x in range(b):\n",
    "        for y in range(b-x):\n",
    "            a[y] = a[y+1]\n",
    "a = [5,1,4,2,8]\n",
    "bubswap(a)\n",
    "        "
   ]
  },
  {
   "cell_type": "code",
   "execution_count": 3,
   "id": "d1d188d2",
   "metadata": {},
   "outputs": [],
   "source": [
    "def bs(a):\n",
    "# a = name of list\n",
    "   b=len(a)-1; \n",
    "# minus 1 because we always compare 2 adjacent values\n",
    "   for x in range(b):\n",
    "        for y in range(b-x):\n",
    "              a[y]=a[y+1]\n",
    "   \n",
    "   a=[32,5,3,6,7,54,87]\n",
    "bs(a)\n"
   ]
  },
  {
   "cell_type": "code",
   "execution_count": 2,
   "id": "e243de2c",
   "metadata": {},
   "outputs": [],
   "source": [
    "def bs(x):\n",
    "    y = len(x)-1\n",
    "    for i in range(y):\n",
    "        for j in range(y-i):\n",
    "            x[j] = x[j+1]\n",
    "x = [1,2,3,4,5]\n",
    "bs(x)"
   ]
  },
  {
   "cell_type": "code",
   "execution_count": null,
   "id": "825a7a1f",
   "metadata": {},
   "outputs": [],
   "source": []
  }
 ],
 "metadata": {
  "kernelspec": {
   "display_name": "Python 3 (ipykernel)",
   "language": "python",
   "name": "python3"
  },
  "language_info": {
   "codemirror_mode": {
    "name": "ipython",
    "version": 3
   },
   "file_extension": ".py",
   "mimetype": "text/x-python",
   "name": "python",
   "nbconvert_exporter": "python",
   "pygments_lexer": "ipython3",
   "version": "3.9.7"
  }
 },
 "nbformat": 4,
 "nbformat_minor": 5
}
