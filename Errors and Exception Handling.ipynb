{
 "cells": [
  {
   "cell_type": "code",
   "execution_count": 2,
   "id": "bce0fe55",
   "metadata": {},
   "outputs": [],
   "source": [
    "# we cannot handle syntex error\n",
    "# try\n",
    "# except\n",
    "# else\n",
    "# finally"
   ]
  },
  {
   "cell_type": "code",
   "execution_count": 3,
   "id": "89078bc0",
   "metadata": {},
   "outputs": [
    {
     "name": "stdout",
     "output_type": "stream",
     "text": [
      "i will execute if try is wrong\n",
      "4.0\n",
      "execute in any given condition\n"
     ]
    }
   ],
   "source": [
    "try:\n",
    "    s=4/0\n",
    "except:\n",
    "    print(\"i will execute if try is wrong\")\n",
    "    s=4/1\n",
    "    print(s)\n",
    "else:\n",
    "    print(\" I will execute only if try is right\")\n",
    "finally:\n",
    "    print(\"execute in any given condition\")"
   ]
  },
  {
   "cell_type": "code",
   "execution_count": 4,
   "id": "a6bd9361",
   "metadata": {},
   "outputs": [],
   "source": [
    "# WAP to open the file in the read mode and write content to the file in the try block, then try to \n",
    "# handle the exception if any in the except block"
   ]
  },
  {
   "cell_type": "code",
   "execution_count": 5,
   "id": "40a1dafa",
   "metadata": {},
   "outputs": [
    {
     "name": "stdout",
     "output_type": "stream",
     "text": [
      "this is not acceptable \n",
      "  today is friday\n",
      "if try is write\n",
      "this is not acceptable \n",
      "  today is friday\n"
     ]
    }
   ],
   "source": [
    "try:\n",
    "    with open(\"bcd.txt\",\"r\") as f:\n",
    "        print(f.read())\n",
    "except:\n",
    "    print(\" Try is wrong\")\n",
    "    with open(\"bcd.txt\",\"x\") as f:\n",
    "        f.write(\"this is not acceptable \\n  today is friday\")\n",
    "else:\n",
    "    print(\"if try is write\")\n",
    "finally:\n",
    "    with open(\"bcd.txt\",\"r\") as f:\n",
    "        print(f.read())"
   ]
  },
  {
   "cell_type": "markdown",
   "id": "abaf6856",
   "metadata": {},
   "source": [
    "#### Nested Conditions"
   ]
  },
  {
   "cell_type": "code",
   "execution_count": 6,
   "id": "1efba324",
   "metadata": {},
   "outputs": [
    {
     "name": "stdout",
     "output_type": "stream",
     "text": [
      "#try is wrong#\n",
      "# Nested try is wrong #\n",
      "5.0\n",
      "12.5\n"
     ]
    }
   ],
   "source": [
    "try:\n",
    "    c=5/0\n",
    "except:\n",
    "    print(\"#try is wrong#\")\n",
    "    try:\n",
    "        c=25/0\n",
    "    except:\n",
    "        print(\"# Nested try is wrong #\")\n",
    "    else:\n",
    "        print(\" nested try is right\")\n",
    "    finally:\n",
    "        c=25/5\n",
    "        print(c)\n",
    "else:\n",
    "    print(c)\n",
    "finally:\n",
    "    c=25/2\n",
    "    print(c)"
   ]
  },
  {
   "cell_type": "markdown",
   "id": "11f88cfe",
   "metadata": {},
   "source": [
    " WAP to take input from the user, divide the two numbers and if you haven't entered the right input then the error \n",
    "should be handled by you. make use of all four blocks of exception handling"
   ]
  },
  {
   "cell_type": "code",
   "execution_count": 7,
   "id": "6070cd4e",
   "metadata": {},
   "outputs": [
    {
     "ename": "KeyboardInterrupt",
     "evalue": "Interrupted by user",
     "output_type": "error",
     "
    }
   ],
   "source": [
    "n1 = int(input(\"enter numinator :\"))\n",
    "n2 = int(input(\"enter denominator :\"))\n",
    "try:\n",
    "    s=n1/n2\n",
    "except:\n",
    "    print(\"Try is invalid \")\n",
    "    s=n1/(n2+1)\n",
    "    print(s)\n",
    "else:\n",
    "    print(s)\n",
    "finally:\n",
    "    c= n1+n2\n",
    "    print(c)"
   ]
  },
  {
   "cell_type": "code",
   "execution_count": null,
   "id": "6e161635",
   "metadata": {},
   "outputs": [],
   "source": [
    "try:\n",
    "    s1=int(input(\"enter 1st digit :\"))\n",
    "    s2=int(input(\"enter 2nd digit :\"))\n",
    "    s=s1/s2\n",
    "    print(s)\n",
    "except:\n",
    "    print(\"Entering except block\")\n",
    "    try:\n",
    "        s1=int(input(\"enter 1st digit :\"))\n",
    "        s2=int(input(\"enter 2nd digit :\"))\n",
    "        s3=s1/s2\n",
    "    except:\n",
    "        print(\"Still the wrong input\")\n",
    "    else:\n",
    "        print(s3)\n",
    "else:\n",
    "    print(f\"the final result is:{s3}\")\n",
    "finally:\n",
    "    print(f\"code executed completely\")"
   ]
  },
  {
   "cell_type": "code",
   "execution_count": 1,
   "id": "57204430",
   "metadata": {},
   "outputs": [
    {
     "name": "stdout",
     "output_type": "stream",
     "text": [
      "enter 1st digit :2\n",
      "enter 2nd digit :e\n",
      "Entering except block\n",
      "enter 1st digit :2\n",
      "enter 2nd digit :3\n",
      "0.6666666666666666\n",
      "code executed completely\n",
      "enter 1st digit :2\n",
      "enter 2nd digit :3\n",
      "0.6666666666666666\n",
      "the final result is:0.6666666666666666\n",
      "code executed completely\n"
     ]
    }
   ],
   "source": [
    "while True:\n",
    "    try:                                      # [[[IT WILL ASK FOR ENTER NUMBER UNTIL TRY IS CORRECT]]]\n",
    "        s1=int(input(\"enter 1st digit :\"))\n",
    "        s2=int(input(\"enter 2nd digit :\"))\n",
    "        s=s1/s2\n",
    "        print(s)\n",
    "    except:\n",
    "        print(\"Entering except block\")\n",
    "        try:\n",
    "            s1=int(input(\"enter 1st digit :\"))\n",
    "            s2=int(input(\"enter 2nd digit :\"))\n",
    "            s3=s1/s2\n",
    "        except:\n",
    "            print(\"Still the wrong input\")\n",
    "        else:\n",
    "            print(s3)\n",
    "    else:\n",
    "        print(f\"the final result is:{s3}\")\n",
    "        break\n",
    "    finally:\n",
    "        print(f\"code executed completely\")"
   ]
  },
  {
   "cell_type": "code",
   "execution_count": 3,
   "id": "2aa9be42",
   "metadata": {},
   "outputs": [
    {
     "name": "stdout",
     "output_type": "stream",
     "text": [
      "Enter 1st number :2\n",
      "Enter 2nd numbere\n",
      "Enter 1st number :3\n",
      "Enter 2nd number0\n",
      "Enter 1st number :3\n",
      "Enter 2nd number4\n",
      "0.75\n"
     ]
    }
   ],
   "source": [
    "def fun():\n",
    "    while True:\n",
    "        try:\n",
    "            s1=int(input(\"Enter 1st number :\"))\n",
    "            s2=int(input(\"Enter 2nd number\"))\n",
    "            s=s1/s2\n",
    "            print(s)\n",
    "        except:\n",
    "            i=0\n",
    "        else:\n",
    "            break\n",
    "fun()"
   ]
  },
  {
   "cell_type": "code",
   "execution_count": null,
   "id": "0b155e98",
   "metadata": {},
   "outputs": [],
   "source": []
  },
  {
   "cell_type": "code",
   "execution_count": null,
   "id": "80e56ce6",
   "metadata": {},
   "outputs": [],
   "source": []
  },
  {
   "cell_type": "code",
   "execution_count": null,
   "id": "74d3d50e",
   "metadata": {},
   "outputs": [],
   "source": []
  },
  {
   "cell_type": "code",
   "execution_count": null,
   "id": "5bf1f4e8",
   "metadata": {},
   "outputs": [],
   "source": []
  },
  {
   "cell_type": "code",
   "execution_count": null,
   "id": "7b85fc75",
   "metadata": {},
   "outputs": [],
   "source": [
    "while True:\n",
    "    try:\n",
    "        s1 = int(input(\"Enter 1st digit: \"))\n",
    "        s2 = int(input(\"Enter 2nd digit: \"))\n",
    "        s3 = s1/s2\n",
    "        print(s3)\n",
    "    except:\n",
    "        print(\"ENtering except block\")\n",
    "        print(\"please enter valid numbers now\")\n",
    "        try:\n",
    "            s1 = int(input(\"Enter 1st digit: \"))\n",
    "            s2 = int(input(\"Enter 2nd digit: \"))\n",
    "            s3 = s1/s2\n",
    "            print(s3)\n",
    "        except:\n",
    "            print(\"something!!!\")  \n",
    "        else:\n",
    "            print(f\"The final result is: {s3}\")\n",
    "            break\n",
    "    finally:\n",
    "        print(f\"Code executed completely\")\n",
    "        continue\n"
   ]
  },
  {
   "cell_type": "code",
   "execution_count": null,
   "id": "4e864e74",
   "metadata": {},
   "outputs": [],
   "source": [
    "while True:\n",
    "    try:\n",
    "        s1 = int(input(\"Enter 1st digit: \"))\n",
    "        s2 = int(input(\"Enter 2nd digit: \"))\n",
    "        s3 = s1/s2\n",
    "        print(s3)\n",
    "    except:\n",
    "        print(\"ENtering except block\")\n",
    "        print(\"please enter valid numbers now\")\n",
    "        try:\n",
    "            s1 = int(input(\"Enter 1st digit: \"))\n",
    "            s2 = int(input(\"Enter 2nd digit: \"))\n",
    "            s3 = s1/s2\n",
    "            print(s3)\n",
    "        except:\n",
    "            print(\"something!!!\")  \n",
    "        else:\n",
    "            print(f\"The final result is: {s3}\")\n",
    "            break\n",
    "    finally:\n",
    "        print(f\"Code executed completely\")\n"
   ]
  },
  {
   "cell_type": "code",
   "execution_count": 7,
   "id": "4a7bdd1a",
   "metadata": {},
   "outputs": [
    {
     "name": "stdout",
     "output_type": "stream",
     "text": [
      " The Exception is :  division by zero\n",
      "0.3\n",
      " Done ^=^ \n",
      "1.4102564102564104\n"
     ]
    }
   ],
   "source": [
    "try:\n",
    "    a=3\n",
    "    b=0\n",
    "    c=a/b\n",
    "except Exception as e:\n",
    "    print(\" The Exception is : \",e)\n",
    "    try:\n",
    "        a=3\n",
    "        b=10\n",
    "        d=a/b\n",
    "        print(d)\n",
    "    except:\n",
    "        a=3\n",
    "        b=7\n",
    "        d=a/b\n",
    "        print(d)\n",
    "    else:\n",
    "        print(\" Done ^=^ \")\n",
    "else:\n",
    "    print(c)\n",
    "    print(\"I will execute when Try Is Correct\")\n",
    "finally:\n",
    "    f=330/234\n",
    "    print(f)\n",
    "        \n",
    "\n",
    "    "
   ]
  },
  {
   "cell_type": "code",
   "execution_count": null,
   "id": "92df4767",
   "metadata": {},
   "outputs": [],
   "source": [
    "# We have different types of error. , The error itself will enter into the block to which this error belongs to. For more read the example below.
    "# for example in the program below we have input output error not syntex or type error so it will go IOerror exception"
   ]
  },
  {
   "cell_type": "code",
   "execution_count": 9,
   "id": "ef731400",
   "metadata": {},
   "outputs": [
    {
     "name": "stdout",
     "output_type": "stream",
     "text": [
      "Error: this file has some error \n",
      " i will execute\n"
     ]
    }
   ],
   "source": [
    "try:\n",
    "    with open(\"abc.txt\",\"w\") as f:\n",
    "        print(f.read())\n",
    "except IOError:\n",
    "    # it will only check for IoError exception and then print()\n",
    "    print(\"Error: this file has some error \")\n",
    "except TypeError:\n",
    "    print(\" Error : Thers some error \")\n",
    "else:\n",
    "    print(\"content written suucesfully\")\n",
    "finally:\n",
    "    print(\" i will execute\")\n",
    "    "
   ]
  },
  {
   "cell_type": "markdown",
   "id": "a82ab6a0",
   "metadata": {},
   "source": [
    "how we only print a statement . The code still ran and we were able to continue doing actions and running code\n",
    "blocks. This is extremely useful when you have to account for possible input errors in your code. You can be \n",
    "prepared for the error and keep running code. Insted of your code just breaking as we saw above.\n",
    "\n",
    "We could have also just said except: if we weren't sure what exception error would occur. FOR EXAMPLE"
   ]
  },
  {
   "cell_type": "code",
   "execution_count": 11,
   "id": "f8765bd2",
   "metadata": {},
   "outputs": [
    {
     "data": {
      "text/plain": [
       "[(0, 'e'), (1, 'u'), (2, 'g'), (3, 'l'), (4, 'e'), (5, 'n'), (6, 'a')]"
      ]
     },
     "execution_count": 11,
     "metadata": {},
     "output_type": "execute_result"
    }
   ],
   "source": [
    "l= \"euglena\"\n",
    "s= list(enumerate(l))\n",
    "s"
   ]
  },
  {
   "cell_type": "code",
   "execution_count": 12,
   "id": "593d3cd3",
   "metadata": {},
   "outputs": [
    {
     "ename": "IndentationError",
     "evalue": "expected an indented block (Temp/ipykernel_6384/2100676012.py, line 5)",
     "output_type": "error",
     "traceback": [
      "\u001b[1;36m  File \u001b[1;32m\"C:\\Users\\admin\\AppData\\Local\\Temp/ipykernel_6384/2100676012.py\"\u001b[1;36m, line \u001b[1;32m5\u001b[0m\n\u001b[1;33m    elif toss==1:\u001b[0m\n\u001b[1;37m                 ^\u001b[0m\n\u001b[1;31mIndentationError\u001b[0m\u001b[1;31m:\u001b[0m expected an indented block\n"
     ]
    }
   ],
   "source": [
    "try:\n",
    "    toss=int(input(\" enter heads or tails \\n 0 \\n 1\"))\n",
    "    if toss==0:\n",
    "        print(\"India won the toss \")\n",
    "    elif toss==1:\n",
    "        print(\"opposition wins the toss\")\n",
    "except:\n",
    "    "
   ]
  },
  {
   "cell_type": "code",
   "execution_count": 13,
   "id": "8675c8c0",
   "metadata": {},
   "outputs": [],
   "source": [
    "# if more than one break is used finally still get printed"
   ]
  },
  {
   "cell_type": "code",
   "execution_count": 15,
   "id": "399f08c7",
   "metadata": {},
   "outputs": [
    {
     "name": "stdout",
     "output_type": "stream",
     "text": [
      "0.5\n",
      "Done for zero division error \n",
      " We are Done\n"
     ]
    }
   ],
   "source": [
    "try:\n",
    "    c=6/0\n",
    "    print(d)\n",
    "except ZeroDivisionError:\n",
    "    try:\n",
    "        c=6/12\n",
    "        print(c)\n",
    "    except:\n",
    "        pass\n",
    "    else:\n",
    "        print(\"Done for zero division error \")\n",
    "except NameError:\n",
    "    try:\n",
    "        d=c\n",
    "        print(d)\n",
    "    except:\n",
    "        pass\n",
    "    else:\n",
    "        print(\" Done for type error \")\n",
    "else:\n",
    "    (\" only if try is correct\")\n",
    "finally:\n",
    "    print(\" We are Done\")\n",
    "    "
   ]
  },
  {
   "cell_type": "code",
   "execution_count": null,
   "id": "dd807a60",
   "metadata": {},
   "outputs": [],
   "source": []
  },
  {
   "cell_type": "code",
   "execution_count": null,
   "id": "23a23b7b",
   "metadata": {},
   "outputs": [],
   "source": []
  },
  {
   "cell_type": "code",
   "execution_count": null,
   "id": "b01cfa30",
   "metadata": {},
   "outputs": [],
   "source": []
  }
 ],
 "metadata": {
  "kernelspec": {
   "display_name": "Python 3 (ipykernel)",
   "language": "python",
   "name": "python3"
  },
  "language_info": {
   "codemirror_mode": {
    "name": "ipython",
    "version": 3
   },
   "file_extension": ".py",
   "mimetype": "text/x-python",
   "name": "python",
   "nbconvert_exporter": "python",
   "pygments_lexer": "ipython3",
   "version": "3.9.7"
  }
 },
 "nbformat": 4,
 "nbformat_minor": 5
}
