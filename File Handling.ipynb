{
 "cells": [
  {
   "cell_type": "markdown",
   "id": "36b1736e",
   "metadata": {},
   "source": [
    "### File Handling"
   ]
  },
  {
   "cell_type": "code",
   "execution_count": 1,
   "id": "4506de36",
   "metadata": {},
   "outputs": [],
   "source": [
    "f = open(\"rs.txt\",\"x\")\n",
    "f.write(\" within your workplace or organisation \\n prepare for and conduct \\n both formal and informal meetings \\n record and store meeting documentations\")"
   ]
  },
  {
   "cell_type": "code",
   "execution_count": 9,
   "id": "493ed475",
   "metadata": {},
   "outputs": [
    {
     "name": "stdout",
     "output_type": "stream",
     "text": [
      "within your workplace or organisation \n",
      "\n",
      " prepare for and conduct \n",
      "\n",
      " both formal and informal meetings \n",
      "\n",
      " record and store meeting documentations\n"
     ]
    }
   ],
   "source": [
    "f = open(\"rs.txt\",\"r\")\n",
    "for i in f:\n",
    "    print(i)"
   ]
  },
  {
   "cell_type": "code",
   "execution_count": 19,
   "id": "d208dced",
   "metadata": {},
   "outputs": [
    {
     "data": {
      "text/plain": [
       "32"
      ]
     },
     "execution_count": 19,
     "metadata": {},
     "output_type": "execute_result"
    }
   ],
   "source": [
    "f= open(\"rs.txt\",\"a\")\n",
    "f.write(\"\\n what cost needs to be consider\")"
   ]
  },
  {
   "cell_type": "code",
   "execution_count": 20,
   "id": "449d5218",
   "metadata": {},
   "outputs": [
    {
     "name": "stdout",
     "output_type": "stream",
     "text": [
      "within your workplace or organisation \n",
      "\n",
      " prepare for and conduct \n",
      "\n",
      " both formal and informal meetings \n",
      "\n",
      " record and store meeting documentations what cost need to be consider\n",
      "\n",
      " what cost need to be consider\n",
      "\n",
      " what cost needs to be consider\n",
      "\n",
      " what cost needs to be consider\n"
     ]
    }
   ],
   "source": [
    "f=open(\"rs.txt\",\"r\")\n",
    "for i in f:\n",
    "    print(i)"
   ]
  },
  {
   "cell_type": "code",
   "execution_count": 23,
   "id": "0903f6f0",
   "metadata": {},
   "outputs": [
    {
     "data": {
      "text/plain": [
       "43"
      ]
     },
     "execution_count": 23,
     "metadata": {},
     "output_type": "execute_result"
    }
   ],
   "source": [
    "f= open(\"rs.txt\",\"a\")\n",
    "f.write(\" \\n briefly describe each and every document\")"
   ]
  },
  {
   "cell_type": "code",
   "execution_count": 24,
   "id": "4677b919",
   "metadata": {},
   "outputs": [
    {
     "name": "stdout",
     "output_type": "stream",
     "text": [
      "within your workplace or organisation \n",
      "\n",
      " prepare for and conduct \n",
      "\n",
      " both formal and informal meetings \n",
      "\n",
      " record and store meeting documentations what cost need to be consider\n",
      "\n",
      " what cost need to be consider\n",
      "\n",
      " what cost needs to be consider\n",
      "\n",
      " what cost needs to be considerbriefly describe each and every document \n",
      "\n",
      " briefly describe each and every document\n"
     ]
    }
   ],
   "source": [
    "f= open(\"rs.txt\",\"r\")\n",
    "for i in f:\n",
    "    print(i)"
   ]
  },
  {
   "cell_type": "code",
   "execution_count": 26,
   "id": "a1658028",
   "metadata": {},
   "outputs": [],
   "source": [
    "f.close()"
   ]
  },
  {
   "cell_type": "code",
   "execution_count": 25,
   "id": "7b4bf315",
   "metadata": {},
   "outputs": [],
   "source": [
    "#w mode is basically overwrite whatever the previous content was  so basically clear and write"
   ]
  },
  {
   "cell_type": "code",
   "execution_count": 27,
   "id": "a54e2185",
   "metadata": {},
   "outputs": [
    {
     "name": "stdout",
     "output_type": "stream",
     "text": [
      "within your workplace or organisation \n",
      " prepare for and conduct \n",
      " both formal and informal meetings \n",
      " record and store meeting documentations what cost need to be consider\n",
      " what cost need to be consider\n",
      " what cost needs to be consider\n",
      " what cost needs to be considerbriefly describe each and every document \n",
      " briefly describe each and every document\n"
     ]
    }
   ],
   "source": [
    "# WITH OPEN METHOD\n",
    "with open(\"rs.txt\") as f:\n",
    "    print(f.read())"
   ]
  },
  {
   "cell_type": "code",
   "execution_count": 3,
   "id": "05f8817a",
   "metadata": {},
   "outputs": [
    {
     "name": "stdout",
     "output_type": "stream",
     "text": [
      "within your workplace or organisation \n",
      " prepare for and conduct \n",
      " both formal and informal meetings \n",
      " record and store meeting documentations what cost need to be consider\n",
      " what cost need to be consider\n",
      " what cost needs to be consider\n",
      " what cost needs to be considerbriefly describe each and every document \n",
      " briefly describe each and every document\n",
      "20\n",
      "\n"
     ]
    }
   ],
   "source": [
    "with open(\"rs.txt\",\"r+\") as f:\n",
    "    print(f.read())\n",
    "    print(f.write(\" we are team flash \\n\"))\n",
    "    print(f.read())"
   ]
  },
  {
   "cell_type": "code",
   "execution_count": 3,
   "id": "b99e8f10",
   "metadata": {},
   "outputs": [
    {
     "name": "stdout",
     "output_type": "stream",
     "text": [
      "36\n",
      "\n"
     ]
    }
   ],
   "source": [
    "with open(\"rs\",\"w+\") as f:\n",
    "    print(f.write(\"the world \\n is black \\n and is fast \\n\"))\n",
    "    print(f.read())"
   ]
  },
  {
   "cell_type": "code",
   "execution_count": 7,
   "id": "c3c937ff",
   "metadata": {},
   "outputs": [
    {
     "name": "stdout",
     "output_type": "stream",
     "text": [
      "within your workplace or organisation \n",
      " prepare for and conduct \n",
      " both formal and informal meetings \n",
      " record and store meeting documentations what cost need to be consider\n",
      " what cost need to be consider\n",
      " what cost needs to be consider\n",
      " what cost needs to be considerbriefly describe each and every document \n",
      " briefly describe each and every document we are team flash \n",
      "\n"
     ]
    }
   ],
   "source": [
    "with open(\"rs.txt\",\"r\") as f:\n",
    "    print(f.read())"
   ]
  },
  {
   "cell_type": "code",
   "execution_count": 9,
   "id": "b4b10b57",
   "metadata": {},
   "outputs": [
    {
     "name": "stdout",
     "output_type": "stream",
     "text": [
      "\n",
      "21\n"
     ]
    }
   ],
   "source": [
    "with open(\"rs.txt\",\"a+\") as f:\n",
    "    print(f.read())\n",
    "    print(f.write(\"the dog is friendly \\n\"))  # theres a space and then 21 is length of sting this is because append\n",
    "                                              #only works for last line and doesnot works for the previous 3 lines      "
   ]
  },
  {
   "cell_type": "code",
   "execution_count": 11,
   "id": "23e7c633",
   "metadata": {},
   "outputs": [
    {
     "name": "stdout",
     "output_type": "stream",
     "text": [
      "within your workplace or organisation \n",
      " prepare for and conduct \n",
      " both formal and informal meetings \n",
      " record and store meeting documentations what cost need to be consider\n",
      " what cost need to be consider\n",
      " what cost needs to be consider\n",
      " what cost needs to be considerbriefly describe each and every document \n",
      " briefly describe each and every document we are team flash \n",
      "the dog is friendly \n",
      "\n"
     ]
    }
   ],
   "source": [
    "with open(\"rs.txt\") as f:\n",
    "    print(f.read())"
   ]
  },
  {
   "cell_type": "code",
   "execution_count": 10,
   "id": "22a05007",
   "metadata": {},
   "outputs": [],
   "source": [
    "# append+ == append at end of file + read\n",
    "# w+ = write and read\n",
    "# f.readline() = will read linewise\n",
    "# readline = read first line only\n",
    "# readlines= read all lines\n",
    "#write=when we write single line\n",
    "# writeliness = write multiple lines in one short"
   ]
  },
  {
   "cell_type": "code",
   "execution_count": 15,
   "id": "c4d58ace",
   "metadata": {},
   "outputs": [
    {
     "name": "stdout",
     "output_type": "stream",
     "text": [
      "['within your workplace or organisation \\n', ' prepare for and conduct \\n', ' both formal and informal meetings \\n', ' record and store meeting documentations what cost need to be consider\\n', ' what cost need to be consider\\n', ' what cost needs to be consider\\n', ' what cost needs to be considerbriefly describe each and every document \\n', ' briefly describe each and every document we are team flash \\n', 'the dog is friendly \\n']\n"
     ]
    }
   ],
   "source": [
    "with open(\"rs.txt\",\"r\") as f:\n",
    "    print(f.readlines())"
   ]
  },
  {
   "cell_type": "code",
   "execution_count": 19,
   "id": "5cc1d172",
   "metadata": {},
   "outputs": [
    {
     "data": {
      "text/plain": [
       "' record and store meeting documentations what cost need to be consider\\n'"
      ]
     },
     "execution_count": 19,
     "metadata": {},
     "output_type": "execute_result"
    }
   ],
   "source": [
    "with open(\"rs.txt\",\"r\") as f:\n",
    "    l = f.readlines()\n",
    "l[3]"
   ]
  },
  {
   "cell_type": "code",
   "execution_count": 23,
   "id": "060d9a23",
   "metadata": {},
   "outputs": [
    {
     "name": "stdout",
     "output_type": "stream",
     "text": [
      " what cost need to be consider\n",
      "\n"
     ]
    }
   ],
   "source": [
    "line = 5\n",
    "current_line=1\n",
    "with open(\"rs.txt\") as f:\n",
    "    for i in f:\n",
    "        if line==current_line:\n",
    "            print(i)\n",
    "            break\n",
    "        else:\n",
    "            current_line=current_line+1"
   ]
  },
  {
   "cell_type": "code",
   "execution_count": 31,
   "id": "752dc3d9",
   "metadata": {},
   "outputs": [],
   "source": [
    "with open(\"rs.txt\",\"a\") as f:\n",
    "    f.writelines([\"the cat \\n the dog \\n and the monkey \\n are frienda \\n\"])"
   ]
  },
  {
   "cell_type": "code",
   "execution_count": 32,
   "id": "59af7afd",
   "metadata": {},
   "outputs": [
    {
     "name": "stdout",
     "output_type": "stream",
     "text": [
      "within your workplace or organisation \n",
      " prepare for and conduct \n",
      " both formal and informal meetings \n",
      " record and store meeting documentations what cost need to be consider\n",
      " what cost need to be consider\n",
      " what cost needs to be consider\n",
      " what cost needs to be considerbriefly describe each and every document \n",
      " briefly describe each and every document we are team flash \n",
      "the dog is friendly \n",
      "the cat \n",
      " the dog \n",
      " and the monkey \n",
      " are frienda \n",
      "the cat \n",
      " the dog \n",
      " and the monkey \n",
      " are frienda \n",
      "the cat \n",
      " the dog \n",
      " and the monkey \n",
      " are frienda \n",
      "\n"
     ]
    }
   ],
   "source": [
    "with open(\"rs.txt\",\"r\") as f:\n",
    "    print(f.read())"
   ]
  },
  {
   "cell_type": "code",
   "execution_count": 5,
   "id": "4cc3ed63",
   "metadata": {},
   "outputs": [
    {
     "name": "stdout",
     "output_type": "stream",
     "text": [
      "Enter the sports person name : SUNAINA\n",
      "Enter the sports person name : VOLLYBALL\n",
      "Enter the sports person name : Sharma\n",
      "Enter the sports person name : massi\n",
      "Enter the sports person name : leonal\n"
     ]
    }
   ],
   "source": [
    "l=[]\n",
    "with open(\"sprts.txdt\",\"x\") as f:\n",
    "    for i in range(5):\n",
    "        f.write(input(\"Enter the sports person name : \"))\n",
    "        f.write(\"\\n\")"
   ]
  },
  {
   "cell_type": "code",
   "execution_count": 10,
   "id": "4fad4552",
   "metadata": {},
   "outputs": [
    {
     "name": "stdout",
     "output_type": "stream",
     "text": [
      "Enter the name : Dhoni\n",
      "Enter the name : Ronaldo\n",
      "Enter the name : Messi\n",
      "Enter the name : Warner\n",
      "Enter the name : Bolt\n"
     ]
    }
   ],
   "source": [
    "with open(\"sunday.txt\",\"x\") as f:\n",
    "    for i in range(5):\n",
    "        f.write(input(\"Enter the name : \"))\n",
    "        f.write(\"\\n\")"
   ]
  },
  {
   "cell_type": "code",
   "execution_count": 11,
   "id": "7c9cd6de",
   "metadata": {},
   "outputs": [
    {
     "name": "stdout",
     "output_type": "stream",
     "text": [
      "Dhoni\n",
      "Ronaldo\n",
      "Messi\n",
      "Warner\n",
      "Bolt\n",
      "\n"
     ]
    }
   ],
   "source": [
    "with open(\"sunday.txt\",\"r\") as f:\n",
    "    print(f.read())"
   ]
  },
  {
   "cell_type": "code",
   "execution_count": 12,
   "id": "a5d8a356",
   "metadata": {},
   "outputs": [
    {
     "data": {
      "text/plain": [
       "['Ronaldo', 'Warner']"
      ]
     },
     "execution_count": 12,
     "metadata": {},
     "output_type": "execute_result"
    }
   ],
   "source": [
    "with open(\"sunday.txt\",\"r\") as f:\n",
    "    l = f.readlines()\n",
    "l1 = []\n",
    "for i in l:\n",
    "    i=i.replace(\"\\n\",\"\")\n",
    "    l1.append(i)\n",
    "l1\n",
    "list(filter(lambda x:len(x)>5,l1))"
   ]
  },
  {
   "cell_type": "code",
   "execution_count": 15,
   "id": "3d6e14e6",
   "metadata": {},
   "outputs": [
    {
     "name": "stdout",
     "output_type": "stream",
     "text": [
      "7\n",
      "Hello \n",
      "This is Delhi \n",
      "This is Paris \n",
      "This is London \n",
      "Today\n"
     ]
    }
   ],
   "source": [
    "L=[\"This is Delhi \\n\", \"This is Paris \\n\",\"This is London \\n\"]\n",
    "\n",
    "with open(\"5class.txt\",\"x\") as file1:\n",
    "    print(file1.write('Hello \\n'))\n",
    "    \n",
    "with open(\"5class.txt\",\"a\") as file1:\n",
    "    #witing data to a file\n",
    "    file1.writelines(L)\n",
    "    \n",
    "#appending to a file\n",
    "with open(\"5class.txt\",'a') as file1:\n",
    "    file1.write(\"Today\")\n",
    "    \n",
    "# reading  from file\n",
    "with open(\"5class.txt\",\"r\") as file1:\n",
    "    print(file1.read())"
   ]
  },
  {
   "cell_type": "code",
   "execution_count": null,
   "id": "6d3abd4e",
   "metadata": {},
   "outputs": [],
   "source": [
    "# count number of lines this kitni baar aaya is kitni bar aaya etc"
   ]
  },
  {
   "cell_type": "code",
   "execution_count": 13,
   "id": "6b82291d",
   "metadata": {},
   "outputs": [
    {
     "name": "stdout",
     "output_type": "stream",
     "text": [
      "Hello \n",
      "This is Delhi \n",
      "This is Paris \n",
      "This is London \n",
      "Today\n"
     ]
    },
    {
     "data": {
      "text/plain": [
       "{'Hello': 1,\n",
       " 'This': 3,\n",
       " 'is': 3,\n",
       " 'Delhi': 1,\n",
       " 'Paris': 1,\n",
       " 'London': 1,\n",
       " 'Today': 1}"
      ]
     },
     "execution_count": 13,
     "metadata": {},
     "output_type": "execute_result"
    }
   ],
   "source": [
    "with open(\"5class.txt\",\"r\") as f:\n",
    "    a = f.readlines()\n",
    "l1=[]\n",
    "for i in a:\n",
    "    i = i.replace(\"\\n\",\"\")\n",
    "    print(i)\n",
    "    l1.append(i)\n",
    "l1\n",
    "l2=[]\n",
    "for i in l1:\n",
    "    j=i.split()\n",
    "    l2.append(j)\n",
    "l2\n",
    "l3=[]\n",
    "for i in l2:\n",
    "    for j in i:\n",
    "        l3.append(j)\n",
    "l3\n",
    "d={}\n",
    "for i in l3:\n",
    "    d[i]=l3.count(i)\n",
    "d"
   ]
  },
  {
   "cell_type": "code",
   "execution_count": 17,
   "id": "8575214d",
   "metadata": {},
   "outputs": [
    {
     "data": {
      "text/plain": [
       "{'Hello': 1,\n",
       " 'This': 3,\n",
       " 'is': 3,\n",
       " 'Delhi': 1,\n",
       " 'Paris': 1,\n",
       " 'London': 1,\n",
       " 'Today': 1,\n",
       " 'Hello \\n': 0,\n",
       " 'This is Delhi \\n': 0,\n",
       " 'This is Paris \\n': 0,\n",
       " 'This is London \\n': 0,\n",
       " 'Hello ': 1,\n",
       " 'This is Delhi ': 1,\n",
       " 'This is Paris ': 1,\n",
       " 'This is London ': 1}"
      ]
     },
     "execution_count": 17,
     "metadata": {},
     "output_type": "execute_result"
    }
   ],
   "source": [
    "with open(\"5class.txt\",\"r\") as f:\n",
    "    a = f.readlines()\n",
    "l1=[]\n",
    "for i in a:\n",
    "    j=i.replace(\"\\n\",\"\")\n",
    "    l1.append(j)\n",
    "l1\n",
    "l2=[]\n",
    "for i in l1:\n",
    "    d[i]=l1.count(i)\n",
    "d\n"
   ]
  },
  {
   "cell_type": "code",
   "execution_count": null,
   "id": "e69b36d3",
   "metadata": {},
   "outputs": [],
   "source": [
    "#count the number of lines in a text file"
   ]
  },
  {
   "cell_type": "code",
   "execution_count": 22,
   "id": "5a8ab56f",
   "metadata": {},
   "outputs": [
    {
     "data": {
      "text/plain": [
       "5"
      ]
     },
     "execution_count": 22,
     "metadata": {},
     "output_type": "execute_result"
    }
   ],
   "source": [
    "f=open(\"5class.txt\")\n",
    "l=f.readlines()\n",
    "len(l)"
   ]
  },
  {
   "cell_type": "markdown",
   "id": "52e434da",
   "metadata": {},
   "source": [
    "###### WAP for two files abc.txt and xyz.txt take string of abc.txt as key of the corresponding xyz.txt will be the value of the dict"
   ]
  },
  {
   "cell_type": "code",
   "execution_count": 23,
   "id": "225a0037",
   "metadata": {},
   "outputs": [
    {
     "data": {
      "text/plain": [
       "40"
      ]
     },
     "execution_count": 23,
     "metadata": {},
     "output_type": "execute_result"
    }
   ],
   "source": [
    "f=open(\"abc.txt\",\"x\")\n",
    "f.write(\"banana \\n kangaroo \\n strawberry \\n Burger\\n\")"
   ]
  },
  {
   "cell_type": "code",
   "execution_count": 24,
   "id": "4ac7b081",
   "metadata": {},
   "outputs": [
    {
     "data": {
      "text/plain": [
       "35"
      ]
     },
     "execution_count": 24,
     "metadata": {},
     "output_type": "execute_result"
    }
   ],
   "source": [
    "f=open(\"xyz.txt\",\"x\")\n",
    "f.write(\"yellow \\n animal \\n Fruit \\n fast food\")"
   ]
  },
  {
   "cell_type": "code",
   "execution_count": 38,
   "id": "4c094cc5",
   "metadata": {},
   "outputs": [
    {
     "data": {
      "text/plain": [
       "['banana \\n', ' kangaroo \\n', ' strawberry \\n', ' Burger\\n']"
      ]
     },
     "execution_count": 38,
     "metadata": {},
     "output_type": "execute_result"
    }
   ],
   "source": [
    "with open(\"abc.txt\",\"r\") as f:\n",
    "    l=f.readlines()\n",
    "l\n",
    "    "
   ]
  },
  {
   "cell_type": "code",
   "execution_count": 39,
   "id": "07374571",
   "metadata": {},
   "outputs": [
    {
     "data": {
      "text/plain": [
       "['yellow \\n', ' animal \\n', ' Fruit \\n', ' fast food']"
      ]
     },
     "execution_count": 39,
     "metadata": {},
     "output_type": "execute_result"
    }
   ],
   "source": [
    "with open(\"xyz.txt\",\"r\") as f:\n",
    "    l1=f.readlines()\n",
    "l1"
   ]
  },
  {
   "cell_type": "code",
   "execution_count": 37,
   "id": "a5877f20",
   "metadata": {},
   "outputs": [
    {
     "data": {
      "text/plain": [
       "{'banana \\n': 'banana ',\n",
       " ' kangaroo \\n': ' kangaroo ',\n",
       " ' strawberry \\n': ' strawberry ',\n",
       " ' Burger\\n': ' Burger'}"
      ]
     },
     "execution_count": 37,
     "metadata": {},
     "output_type": "execute_result"
    }
   ],
   "source": [
    "dict(zip(l,l1))"
   ]
  },
  {
   "cell_type": "code",
   "execution_count": 33,
   "id": "54058929",
   "metadata": {},
   "outputs": [
    {
     "data": {
      "text/plain": [
       "[{'banana \\n': 'yellow \\n'},\n",
       " {' kangaroo \\n': ' animal \\n'},\n",
       " {' strawberry \\n': ' Fruit \\n'},\n",
       " {' Burger\\n': ' fast food'}]"
      ]
     },
     "execution_count": 33,
     "metadata": {},
     "output_type": "execute_result"
    }
   ],
   "source": [
    "list(map(lambda x,y:{x:y},l,l1))"
   ]
  },
  {
   "cell_type": "code",
   "execution_count": 41,
   "id": "efff09be",
   "metadata": {},
   "outputs": [
    {
     "data": {
      "text/plain": [
       "['banana ', ' kangaroo ', ' strawberry ', ' Burger']"
      ]
     },
     "execution_count": 41,
     "metadata": {},
     "output_type": "execute_result"
    }
   ],
   "source": [
    "with open(\"abc.txt\",\"r\") as f:\n",
    "    l=f.readlines()\n",
    "l1=[]\n",
    "for i in l:\n",
    "    j=i.replace(\"\\n\",\"\")\n",
    "    l1.append(j)\n",
    "l1"
   ]
  },
  {
   "cell_type": "code",
   "execution_count": 42,
   "id": "d6b4e91c",
   "metadata": {},
   "outputs": [
    {
     "data": {
      "text/plain": [
       "['yellow ', ' animal ', ' Fruit ', ' fast food']"
      ]
     },
     "execution_count": 42,
     "metadata": {},
     "output_type": "execute_result"
    }
   ],
   "source": [
    "with open(\"xyz.txt\",\"r\") as f:\n",
    "    l2=f.readlines()\n",
    "l3=[]\n",
    "for i in l2:\n",
    "    j=i.replace(\"\\n\",\"\")\n",
    "    l3.append(j)\n",
    "l3"
   ]
  },
  {
   "cell_type": "code",
   "execution_count": 44,
   "id": "a9c9281f",
   "metadata": {},
   "outputs": [
    {
     "data": {
      "text/plain": [
       "{'banana ': 'yellow ',\n",
       " ' kangaroo ': ' animal ',\n",
       " ' strawberry ': ' Fruit ',\n",
       " ' Burger': ' fast food'}"
      ]
     },
     "execution_count": 44,
     "metadata": {},
     "output_type": "execute_result"
    }
   ],
   "source": [
    "dict(zip(l1,l3))"
   ]
  },
  {
   "cell_type": "code",
   "execution_count": 47,
   "id": "2492aeb0",
   "metadata": {},
   "outputs": [
    {
     "data": {
      "text/plain": [
       "[{'banana ': 'yellow '},\n",
       " {' kangaroo ': ' animal '},\n",
       " {' strawberry ': ' Fruit '},\n",
       " {' Burger': ' fast food'}]"
      ]
     },
     "execution_count": 47,
     "metadata": {},
     "output_type": "execute_result"
    }
   ],
   "source": [
    "list(map(lambda x,y:{x:y},l1,l3))"
   ]
  },
  {
   "cell_type": "code",
   "execution_count": null,
   "id": "f0885bd7",
   "metadata": {},
   "outputs": [],
   "source": [
    "#OS = OPERATING SYSTEM MODULE= to rename any file and to remove a file\n",
    "# and other uses like chain directory etc are there"
   ]
  },
  {
   "cell_type": "code",
   "execution_count": 50,
   "id": "70af6006",
   "metadata": {},
   "outputs": [],
   "source": [
    "import os\n",
    "os.rename(\"sprots.txt\",\"sports.txt\")   #if we wnts to convert \"sprots.txt\" into \"sports.txt\""
   ]
  },
  {
   "cell_type": "code",
   "execution_count": 52,
   "id": "a6436696",
   "metadata": {},
   "outputs": [],
   "source": [
    "os.remove(\"anu.txt\")"
   ]
  },
  {
   "cell_type": "code",
   "execution_count": null,
   "id": "ee96df77",
   "metadata": {},
   "outputs": [],
   "source": []
  }
 ],
 "metadata": {
  "kernelspec": {
   "display_name": "Python 3 (ipykernel)",
   "language": "python",
   "name": "python3"
  },
  "language_info": {
   "codemirror_mode": {
    "name": "ipython",
    "version": 3
   },
   "file_extension": ".py",
   "mimetype": "text/x-python",
   "name": "python",
   "nbconvert_exporter": "python",
   "pygments_lexer": "ipython3",
   "version": "3.9.7"
  }

