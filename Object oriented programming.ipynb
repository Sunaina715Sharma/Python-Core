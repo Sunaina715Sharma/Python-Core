{
 "cells": [
  {
   "cell_type": "code",
   "execution_count": 1,
   "id": "43ccd2c4",
   "metadata": {},
   "outputs": [],
   "source": [
    "# what is OOP = is bascically programming methedology which follows the paradigm of a object"
   ]
  },
  {
   "cell_type": "code",
   "execution_count": 4,
   "id": "68aa4b65",
   "metadata": {},
   "outputs": [
    {
     "name": "stdout",
     "output_type": "stream",
     "text": [
      "<class 'str'>\n"
     ]
    }
   ],
   "source": [
    "a=\"madam\"\n",
    "print(type(a))\n",
    "# type(a)"
   ]
  },
  {
   "cell_type": "code",
   "execution_count": 5,
   "id": "e217be4b",
   "metadata": {},
   "outputs": [
    {
     "name": "stdout",
     "output_type": "stream",
     "text": [
      "<class 'str'>\n"
     ]
    }
   ],
   "source": [
    "s=\"cat\"\n",
    "print(type(s))"
   ]
  },
  {
   "cell_type": "code",
   "execution_count": 7,
   "id": "8a902aa8",
   "metadata": {},
   "outputs": [
    {
     "data": {
      "text/plain": [
       "['c', 't']"
      ]
     },
     "execution_count": 7,
     "metadata": {},
     "output_type": "execute_result"
    }
   ],
   "source": [
    "s.split(sep=\"a\")   # here s is acting like an object and any function can be performed on s only\n",
    "    "
   ]
  },
  {
   "cell_type": "code",
   "execution_count": 8,
   "id": "0b7b1dc3",
   "metadata": {},
   "outputs": [
    {
     "data": {
      "text/plain": [
       "['m', 'd', 'm']"
      ]
     },
     "execution_count": 8,
     "metadata": {},
     "output_type": "execute_result"
    }
   ],
   "source": [
    "a.split(sep = \"a\")"
   ]
  },
  {
   "cell_type": "code",
   "execution_count": 10,
   "id": "f0f9d043",
   "metadata": {},
   "outputs": [
    {
     "name": "stdout",
     "output_type": "stream",
     "text": [
      "<class 'list'>\n"
     ]
    }
   ],
   "source": [
    "p=[1,2,34,56]\n",
    "print(type(p))"
   ]
  },
  {
   "cell_type": "code",
   "execution_count": 11,
   "id": "b3fe45f8",
   "metadata": {},
   "outputs": [
    {
     "data": {
      "text/plain": [
       "2"
      ]
     },
     "execution_count": 11,
     "metadata": {},
     "output_type": "execute_result"
    }
   ],
   "source": [
    "p.index(34)"
   ]
  },
  {
   "cell_type": "code",
   "execution_count": 15,
   "id": "b18fe7af",
   "metadata": {},
   "outputs": [
    {
     "data": {
      "text/plain": [
       "<__main__.car at 0x1d58be01460>"
      ]
     },
     "execution_count": 15,
     "metadata": {},
     "output_type": "execute_result"
    }
   ],
   "source": [
    "class car:\n",
    "    car_type=\"sedan\"  # class attribute\n",
    "    def show(self):\n",
    "        print(\"the name of the car is dzire\")\n",
    "c = car()\n",
    "c"
   ]
  },
  {
   "cell_type": "code",
   "execution_count": 10,
   "id": "db7436ef",
   "metadata": {},
   "outputs": [
    {
     "name": "stdout",
     "output_type": "stream",
     "text": [
      "the name of the car is dzire\n"
     ]
    }
   ],
   "source": [
    "class car:\n",
    "    car_type=\"sedan\"  # class attribute\n",
    "    def show(self):\n",
    "        print(\"the name of the car is dzire\")\n",
    "c = car()\n",
    "c.show()"
   ]
  },
  {
   "cell_type": "code",
   "execution_count": null,
   "id": "a4c99fc9",
   "metadata": {},
   "outputs": [],
   "source": [
    "# here we are using keyword arguements we can use arbitrary arguments but that will be complicated"
   ]
  },
  {
   "cell_type": "code",
   "execution_count": null,
   "id": "de24504c",
   "metadata": {},
   "outputs": [],
   "source": [
    "# WAC car, mileage,colour, maxspeed are the attributs and you need to print the result"
   ]
  },
  {
   "cell_type": "code",
   "execution_count": 22,
   "id": "d1742061",
   "metadata": {},
   "outputs": [
    {
     "name": "stdout",
     "output_type": "stream",
     "text": [
      "100\n",
      " the mileage of car is 13 and the colour is black with maximum speed as 120\n"
     ]
    }
   ],
   "source": [
    "class car:\n",
    "    car_type = \"sedan\"# we can have multiple class attribute\n",
    "    wheel_type = \"turbo\"\n",
    "    def __init__(self,mileage,colour,maxspeed):      # WE CAN PERAMETRISE THE CONSTRUCTOR AND WE CAN TAKE IT WITHOUT PARAMETERS WHICH WE WIIL DO LATTER\n",
    "        self.mileage = mileage # instance attribute\n",
    "        self.colour = colour\n",
    "        self.maxspeed = maxspeed\n",
    "    def show(self,x):\n",
    "        print(x)\n",
    "        print(f\" the mileage of car is {self.mileage} and the colour is {self.colour} with maximum speed as {self.maxspeed}\")\n",
    "c = car(13,\"black\",120)\n",
    "c.show(100)\n",
    "# print(c.car_type)\n",
    "# print(c.mileage,c.colour,c.maxspeed)"
   ]
  },
  {
   "cell_type": "code",
   "execution_count": 23,
   "id": "d45d252d",
   "metadata": {},
   "outputs": [
    {
     "name": "stdout",
     "output_type": "stream",
     "text": [
      " the mileage of car is 13 and the colour is black with maximum speed as 120\n"
     ]
    }
   ],
   "source": [
    "# (SAME PROBLRM WITHOUT X) \n",
    "class car:\n",
    "    car_type = \"sedan\"# we can have multiple class attribute\n",
    "    wheel_type = \"turbo\"\n",
    "    def __init__(self,mileage,colour,maxspeed):      # WE CAN PERAMETRISE THE CONSTRUCTOR AND WE CAN TAKE IT WITHOUT PARAMETERS WHICH WE WIIL DO LATTER\n",
    "        self.mileage = mileage # instance attribute\n",
    "        self.colour = colour\n",
    "        self.maxspeed = maxspeed\n",
    "    def show(self):\n",
    "#         print(x)\n",
    "        print(f\" the mileage of car is {self.mileage} and the colour is {self.colour} with maximum speed as {self.maxspeed}\")\n",
    "c = car(13,\"black\",120)\n",
    "c.show()\n",
    "# print(c.car_type)\n",
    "# print(c.mileage,c.colour,c.maxspeed)"
   ]
  },
  {
   "cell_type": "code",
   "execution_count": 15,
   "id": "f9872a08",
   "metadata": {},
   "outputs": [],
   "source": [
    "class class_name:\n",
    "    a = 10\n",
    "    b = 20\n",
    "obj = class_name()"
   ]
  },
  {
   "cell_type": "code",
   "execution_count": 16,
   "id": "57aedc5d",
   "metadata": {},
   "outputs": [
    {
     "name": "stdout",
     "output_type": "stream",
     "text": [
      "10 20\n"
     ]
    }
   ],
   "source": [
    "print(obj.a,obj.b)"
   ]
  },
  {
   "cell_type": "code",
   "execution_count": null,
   "id": "dbd4a2da",
   "metadata": {},
   "outputs": [],
   "source": [
    "# define a class vehicle define constructor of the class take instance variable as wheelerof veh,\n",
    "# type of vehicle- petrol or diesel or electric. define a method to the class to print the details of the vehicle\n",
    "# also define  a method sitting capacity and if the vehicle is two-- sitting capacity should be printed as 2 \n",
    "#  if the wheeler is three sitting capacity should be three and if it is four , ask user whether its a car , a bus.\n",
    "#     if its a car print 6, if it is bus say 50"
   ]
  },
  {
   "cell_type": "code",
   "execution_count": 1,
   "id": "03e7d854",
   "metadata": {},
   "outputs": [
    {
     "ename": "SyntaxError",
     "evalue": "EOL while scanning string literal (Temp/ipykernel_8800/3692531559.py, line 7)",
     "output_type": "error",
     "traceback": [
      "\u001b[1;36m  File \u001b[1;32m\"C:\\Users\\admin\\AppData\\Local\\Temp/ipykernel_8800/3692531559.py\"\u001b[1;36m, line \u001b[1;32m7\u001b[0m\n\u001b[1;33m    print(f\" vehicle is {self.wov} wheeler and its a {self.fuel_type} vehicle)\u001b[0m\n\u001b[1;37m                                                                              ^\u001b[0m\n\u001b[1;31mSyntaxError\u001b[0m\u001b[1;31m:\u001b[0m EOL while scanning string literal\n"
     ]
    }
   ],
   "source": [
    "class vehicle:\n",
    "    class_type = \"sedan\"\n",
    "    def __init__(self,wov,fuel_type):\n",
    "        self.wov = wov\n",
    "        self.fuel_type = fuel_type\n",
    "    def details(self):\n",
    "        print(f\" vehicle is {self.wov} wheeler and its a {self.fuel_type} vehicle)\n",
    "    def siting_capacity:\n",
    "        if self.wov==2:\n",
    "              print(\"sitting capcity is 2\")\n",
    "        elif self.wov == 3:\n",
    "              print (\" the sitting capacity is 3\")\n",
    "        elif self.wov = 4:\n",
    "              vehicle_name = input(\" whether it is a acr or a bus\")\n",
    "              if vehicle_name=\"car\":\n",
    "                  print(\" sitting capcity is 6\")\n",
    "              elif vehicle_name = \"bus\":\n",
    "                  print(\"sitting capacity is 50\")\n",
    "        else:\n",
    "              print(\"please enter correct details\")\n",
    "              "
   ]
  },
  {
   "cell_type": "code",
   "execution_count": 2,
   "id": "8ab146b2",
   "metadata": {},
   "outputs": [
    {
     "name": "stdout",
     "output_type": "stream",
     "text": [
      "wov : 4\n",
      "fuel type : petrol\n",
      "the vehicle is 4 wheeler and its a petrol vehicle\n",
      "enter whether bus or carbus\n",
      "sitting capacity is : 50\n"
     ]
    }
   ],
   "source": [
    "class vehicle:\n",
    "    vehicle_type = \"ABC\"\n",
    "    def __init__(self,wov,ft):\n",
    "        self.wov = wov\n",
    "        self.ft = ft\n",
    "    def details(self):\n",
    "        print(f\"the vehicle is {self.wov} wheeler and its a {self.ft} vehicle\")\n",
    "    def capacity(self):\n",
    "        if self.wov==2:\n",
    "            print(\"sitting capacity is : 2\")\n",
    "        elif self.wov==3:\n",
    "            print(\"sitting capacity is : 3\")\n",
    "        elif self.wov==4:\n",
    "            v = input(\"enter whether bus or car\")\n",
    "            if v==\"car\":\n",
    "                print(\"sitting capacity is : 6\")\n",
    "            elif v==\"bus\":\n",
    "                print(\"sitting capacity is : 50\")\n",
    "        else:\n",
    "            pass\n",
    "        \n",
    "veh = vehicle(int(input(\"wov : \")),input(\"fuel type : \"))\n",
    "\n",
    "veh.details()\n",
    "veh.capacity()\n",
    "    "
   ]
  },
  {
   "cell_type": "markdown",
   "id": "34acc258",
   "metadata": {},
   "source": [
    "### Properties of object oriented programing"
   ]
  },
  {
   "cell_type": "code",
   "execution_count": null,
   "id": "2d5043fd",
   "metadata": {},
   "outputs": [],
   "source": [
    "# INHERITANCE"
   ]
  },
  {
   "cell_type": "code",
   "execution_count": 2,
   "id": "455d61e5",
   "metadata": {},
   "outputs": [
    {
     "name": "stdout",
     "output_type": "stream",
     "text": [
      "ankit singh\n",
      " ankit singh is having empid 110023\n"
     ]
    }
   ],
   "source": [
    "class Person:\n",
    "    def __init__(self,fname,lname):\n",
    "        self.fname = fname\n",
    "        self.lname = lname\n",
    "    def printname(self):\n",
    "        print(self.fname,self.lname)\n",
    "class Employee(Person):\n",
    "    def __init__(self,fname,lname,empid):\n",
    "        self.empid = empid\n",
    "        Person.__init__(self,fname,lname)\n",
    "    def details(self):\n",
    "        print(f\" {self.fname} {self.lname} is having empid {self.empid}\")\n",
    "emp = Employee(\"ankit\",\"singh\",\"110023\")\n",
    "emp.printname()\n",
    "# emp.fname\n",
    "# emp.lname\n",
    "emp.details()"
   ]
  },
  {
   "cell_type": "markdown",
   "id": "64bd5841",
   "metadata": {},
   "source": [
    "### Data Encapsulation"
   ]
  },
  {
   "cell_type": "code",
   "execution_count": 5,
   "id": "6d19a7e7",
   "metadata": {},
   "outputs": [
    {
     "name": "stdout",
     "output_type": "stream",
     "text": [
      "435 aman wer\n"
     ]
    }
   ],
   "source": [
    "class comp:\n",
    "    def __init__(self,name,a,b):\n",
    "        self._name=name #protected attribute\n",
    "        self.__a=a # private attributer\n",
    "        self.b=b # public attributer\n",
    "    def show(self):\n",
    "        print(\"comp\")\n",
    "c=comp(\"aman\",\"wer\",435)\n",
    "c.b\n",
    "c._name\n",
    "c._comp__a\n",
    "print(c.b,c._name,c._comp__a)"
   ]
  },
  {
   "cell_type": "code",
   "execution_count": null,
   "id": "1336fa24",
   "metadata": {},
   "outputs": [],
   "source": [
    "# WAC bank and u need to take three instances attributes.\n",
    "# 1) withdrawal amount \n",
    "# 2) deposit amount \n",
    "# 3 balance \n",
    "# make a method withdrawal and input from the user regarding the amount withdrawal.\n",
    "# then tell him the bal left . \n",
    "# similarly for deposit . \n",
    "# and atlast the bank charges 0.25 percent of the bal to the customer for having an account in their bank."
   ]
  },
  {
   "cell_type": "code",
   "execution_count": null,
   "id": "50c95885",
   "metadata": {},
   "outputs": [],
   "source": [
    "class Bank:\n",
    "    def __init__(self,wa,da,bal):\n",
    "        self.wa = wa\n",
    "        self.da = da\n",
    "        self.bal = bal\n",
    "    def show(self,x):\n",
    "        print(x)\n",
    "    def deposit(self):\n",
    "        depst_amt=int(input(\"enter amount deposited\"))\n",
    "         == self.bal + self.depst_amt\n",
    "        \n",
    "        "
   ]
  },
  {
   "cell_type": "code",
   "execution_count": null,
   "id": "cebae669",
   "metadata": {},
   "outputs": [],
   "source": [
    "class Bank:\n",
    "    def __init__(self,witdrl,depst,bal):\n",
    "        self.witdrl=witdrl\n",
    "        self.__depst=depst\n",
    "        self._balance=balance\n",
    "    def show(self):\n",
    "        print(f\" the amount withdrawn is {self.witdrl} , deposite is {self.__depst} and you left with the balance {self._balance}\" )\n",
    "acount= Bank(5000,1000,50000)\n",
    "acount._Bank__    "
   ]
  },
  {
   "cell_type": "code",
   "execution_count": 7,
   "id": "81a7b9ae",
   "metadata": {},
   "outputs": [
    {
     "name": "stdout",
     "output_type": "stream",
     "text": [
      "Enter the amount to be withdrawn : 10\n",
      "deposit amount :20\n",
      "Enter the total balance :50\n",
      "Enter the amount to be withdrawn : 100\n",
      "40\n",
      "Enter the amount to be Deposited : 200\n",
      "60\n",
      "the bank charges : 1.5\n"
     ]
    }
   ],
   "source": [
    "class Bank:\n",
    "    def __init__(self,witdrl,depst,bal):\n",
    "        self.witdrl=witdrl\n",
    "        self.__depst=depst\n",
    "        self._balance=bal\n",
    "    def withdrawal(self):\n",
    "        withdrl = int(input(\"Enter the amount to be withdrawn : \"))\n",
    "        net_bal = self._balance - self.witdrl\n",
    "        self._balance = net_bal\n",
    "        print(self._balance)\n",
    "    def deposit(self):\n",
    "        dep = int(input(\"Enter the amount to be Deposited : \"))\n",
    "        net_bal = self._balance +self.__depst\n",
    "        self._balance = net_bal\n",
    "        print(self._balance)\n",
    "    def bankfee(self):\n",
    "        charges  = 0.025*self._balance\n",
    "        print(\"the bank charges :\",charges)\n",
    "        \n",
    "acc= Bank(int(input(\"Enter the amount to be withdrawn : \")),int(input(\"deposit amount :\")),int(input(\"Enter the total balance :\")))\n",
    "acc.withdrawal()\n",
    "acc.deposit()\n",
    "acc.bankfee()\n"
   ]
  },
  {
   "cell_type": "markdown",
   "id": "3b2f9728",
   "metadata": {},
   "source": [
    "### abstract method"
   ]
  },
  {
   "cell_type": "code",
   "execution_count": 4,
   "id": "e503d209",
   "metadata": {},
   "outputs": [
    {
     "ename": "TypeError",
     "evalue": "Can't instantiate abstract class Car with abstract method price",
     "output_type": "error",
     "traceback": [
      "\u001b[1;31m---------------------------------------------------------------------------\u001b[0m",
      "\u001b[1;31mTypeError\u001b[0m                                 Traceback (most recent call last)",
      "\u001b[1;32m~\\AppData\\Local\\Temp/ipykernel_1336/2401880765.py\u001b[0m in \u001b[0;36m<module>\u001b[1;34m\u001b[0m\n\u001b[0;32m     12\u001b[0m     \u001b[1;32mdef\u001b[0m \u001b[0mprice\u001b[0m\u001b[1;33m(\u001b[0m\u001b[0mself\u001b[0m\u001b[1;33m,\u001b[0m\u001b[0mx\u001b[0m\u001b[1;33m)\u001b[0m\u001b[1;33m:\u001b[0m\u001b[1;33m\u001b[0m\u001b[1;33m\u001b[0m\u001b[0m\n\u001b[0;32m     13\u001b[0m         \u001b[0mprint\u001b[0m\u001b[1;33m(\u001b[0m\u001b[1;34m\"this method is hidden cannot open or use this\"\u001b[0m\u001b[1;33m,\u001b[0m\u001b[0mx\u001b[0m\u001b[1;33m)\u001b[0m\u001b[1;33m\u001b[0m\u001b[1;33m\u001b[0m\u001b[0m\n\u001b[1;32m---> 14\u001b[1;33m \u001b[0mc1\u001b[0m \u001b[1;33m=\u001b[0m \u001b[0mCar\u001b[0m\u001b[1;33m(\u001b[0m\u001b[1;34m\"Honda\"\u001b[0m\u001b[1;33m,\u001b[0m\u001b[1;34m\"black\"\u001b[0m\u001b[1;33m,\u001b[0m\u001b[1;36m340\u001b[0m\u001b[1;33m)\u001b[0m\u001b[1;33m\u001b[0m\u001b[1;33m\u001b[0m\u001b[0m\n\u001b[0m\u001b[0;32m     15\u001b[0m \u001b[0mc1\u001b[0m\u001b[1;33m.\u001b[0m\u001b[0mshow\u001b[0m\u001b[1;33m(\u001b[0m\u001b[1;33m)\u001b[0m\u001b[1;33m\u001b[0m\u001b[1;33m\u001b[0m\u001b[0m\n\u001b[0;32m     16\u001b[0m \u001b[1;31m# c1.print()\u001b[0m\u001b[1;33m\u001b[0m\u001b[1;33m\u001b[0m\u001b[0m\n",
      "\u001b[1;31mTypeError\u001b[0m: Can't instantiate abstract class Car with abstract method price"
     ]
    }
   ],
   "source": [
    "from abc import ABC, abstractmethod\n",
    "\n",
    "class Car(ABC):\n",
    "    def __init__(self):\n",
    "        self.name = \"a\"  #protected variable\n",
    "        self.color = \"black\" \n",
    "        self.maxspeed = 310\n",
    "    def show(self):\n",
    "        print(f\"the {self.name} is of {self.color} and has maxspeed of {self.maxspeed}\")\n",
    "\n",
    "    @abstractmethod\n",
    "    def price(self,x):\n",
    "        print(\"this method is hidden cannot open or use this\",x)\n",
    "c1 = Car(\"Honda\",\"black\",340)\n",
    "c1.show()                                         ## HERE WE NEED TO DEFINED ANOTHER METHOD TO ACCESS THIS ABSTRACTED METHOD\n",
    "# c1.print()"
   ]
  },
  {
   "cell_type": "code",
   "execution_count": 5,
   "id": "672883c0",
   "metadata": {},
   "outputs": [
    {
     "name": "stdout",
     "output_type": "stream",
     "text": [
      "this method is hidden cannot open or use this 100\n",
      "the a is of black and has maxspeed of 310\n",
      "310\n",
      "a\n",
      "black\n",
      "this is price of Sedan  1000000\n"
     ]
    }
   ],
   "source": [
    "from abc import ABC, abstractmethod         # abc IS ABSTRACT BASED CLASS. IT IS NOT USER DEFINED\n",
    "\n",
    "class Car(ABC):\n",
    "    def __init__(self):\n",
    "        self.name = \"a\"  #protected variable\n",
    "        self.color = \"black\" \n",
    "        self.maxspeed = 310\n",
    "    def show(self):\n",
    "        print(f\"the {self.name} is of {self.color} and has maxspeed of {self.maxspeed}\")\n",
    "\n",
    "    @abstractmethod\n",
    "    def price(self,x):\n",
    "        print(\"this method is hidden cannot open or use this\",x)\n",
    "# c1 = Car(\"Honda\",\"black\",340)\n",
    "# c1.show()\n",
    "class Sedan(Car):\n",
    "    def __init__(self):\n",
    "        super().__init__()\n",
    "        super().price(100)\n",
    "    def price(self):\n",
    "            print(\"this is price of Sedan \",1000000)\n",
    "\n",
    "obj1 = Sedan()\n",
    "obj1.show()\n",
    "print(obj1.maxspeed)\n",
    "print(obj1.name)\n",
    "print(obj1.color)\n",
    "obj1.price()\n"
   ]
  },
  {
   "cell_type": "markdown",
   "id": "dacc2331",
   "metadata": {},
   "source": [
    "### polymorphism"
   ]
  },
  {
   "cell_type": "code",
   "execution_count": null,
   "id": "31bda58e",
   "metadata": {},
   "outputs": [],
   "source": [
    "class ferrari:\n",
    "    def features(self):\n",
    "        print(\" Ferrari is having a speed of 320\")\n",
    "        "
   ]
  },
  {
   "cell_type": "code",
   "execution_count": 6,
   "id": "722dbcc0",
   "metadata": {},
   "outputs": [
    {
     "name": "stdout",
     "output_type": "stream",
     "text": [
      "ferari is  having top speed of 320\n",
      "Mercedes is having top speed of 340\n",
      "Honda gives best mileage out of ferari and mercedes\n"
     ]
    }
   ],
   "source": [
    "class Ferari:\n",
    "    def features(self):\n",
    "        print('ferari is  having top speed of 320')\n",
    "    \n",
    "class Mercedes:\n",
    "    def features(self):\n",
    "        print('Mercedes is having top speed of 340')\n",
    "class Honda:\n",
    "    def features(self):\n",
    "        print(\"Honda gives best mileage out of ferari and mercedes\")\n",
    "        \n",
    "fer = Ferari()\n",
    "m = Mercedes()\n",
    "h = Honda()\n",
    "for i in fer,m,h:\n",
    "    i.features()\n"
   ]
  },
  {
   "cell_type": "code",
   "execution_count": null,
   "id": "35390243",
   "metadata": {},
   "outputs": [],
   "source": [
    "class car:\n",
    "    car_type = \"sedan\" # we can have multiple class attribute\n",
    "    def __init__(self,mileage,colour,maxspeed):\n",
    "        self.mileage = mileage # instance attribute\n",
    "        self.colour = colour\n",
    "        self.maxspeed = maxspeed\n",
    "    def show(self,x):\n",
    "        print(x)\n",
    "        print(f\" the mileage of car is {self.mileage} and the colour is {self.colour} with maximum speed as {self.maxspeed}\")\n",
    "c = car(13,\"black\",120)\n",
    "c.show(100)\n",
    "# print(c.car_type)\n",
    "print(c.mileage,c.colour,c.maxspeed)"
   ]
  },
  {
   "cell_type": "code",
   "execution_count": 3,
   "id": "1eb2a26b",
   "metadata": {},
   "outputs": [
    {
     "name": "stdout",
     "output_type": "stream",
     "text": [
      "50\n",
      " the speed of the car is 100 and mileage is 12\n",
      "100 12\n"
     ]
    }
   ],
   "source": [
    "class car:\n",
    "    def __init__(self,maxspeed,mileage):\n",
    "        self.maxspeed=maxspeed\n",
    "        self.mileage=mileage\n",
    "    def show(self,x):\n",
    "        print(x)\n",
    "        print(f\" the speed of the car is {self.maxspeed} and mileage is {self.mileage}\" )\n",
    "a = car(100,12)\n",
    "a.show(50)\n",
    "print(a.maxspeed,a.mileage)"
   ]
  },
  {
   "cell_type": "code",
   "execution_count": null,
   "id": "1e93afcd",
   "metadata": {},
   "outputs": [],
   "source": [
    "class bus:\n",
    "    def __init__(self,)"
   ]
  },
  {
   "cell_type": "code",
   "execution_count": null,
   "id": "7ea49475",
   "metadata": {},
   "outputs": [],
   "source": []
  },
  {
   "cell_type": "code",
   "execution_count": null,
   "id": "95a40ccb",
   "metadata": {},
   "outputs": [],
   "source": []
  },
  {
   "cell_type": "code",
   "execution_count": null,
   "id": "2f6ca464",
   "metadata": {},
   "outputs": [],
   "source": []
  },
  {
   "cell_type": "code",
   "execution_count": null,
   "id": "5b377102",
   "metadata": {},
   "outputs": [],
   "source": []
  },
  {
   "cell_type": "code",
   "execution_count": null,
   "id": "31bc558c",
   "metadata": {},
   "outputs": [],
   "source": []
  }
 ],
 "metadata": {
  "kernelspec": {
   "display_name": "Python 3 (ipykernel)",
   "language": "python",
   "name": "python3"
  },
  "language_info": {
   "codemirror_mode": {
    "name": "ipython",
    "version": 3
   },
   "file_extension": ".py",
   "mimetype": "text/x-python",
   "name": "python",
   "nbconvert_exporter": "python",
   "pygments_lexer": "ipython3",
   "version": "3.9.7"
  }
 },
 "nbformat": 4,
 "nbformat_minor": 5
}
